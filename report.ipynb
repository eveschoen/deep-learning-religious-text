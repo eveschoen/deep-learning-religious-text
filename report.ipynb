{
 "cells": [
  {
   "cell_type": "markdown",
   "metadata": {},
   "source": [
    "# NLP for the Evalutation of Relgious Texts - Deep Learning"
   ]
  },
  {
   "cell_type": "markdown",
   "metadata": {},
   "source": [
    "This notebook includes post-data cleaning code that analyzes religious text. Note that our analysis includes in Gospel of Buddha, but our corresponding paper omits this religious text because of the incompletion in the book."
   ]
  },
  {
   "cell_type": "markdown",
   "metadata": {},
   "source": [
    "## Set-up"
   ]
  },
  {
   "cell_type": "code",
   "execution_count": 1,
   "metadata": {},
   "outputs": [],
   "source": [
    "import numpy as np\n",
    "import pandas as pd\n",
    "import torch\n",
    "import pprint\n",
    "from sentence_transformers import SentenceTransformer, util\n",
    "from transformers import pipeline"
   ]
  },
  {
   "cell_type": "code",
   "execution_count": 2,
   "metadata": {},
   "outputs": [],
   "source": [
    "# read in CSV files\n",
    "bible = pd.read_csv(\"bible1.csv\")\n",
    "buddha = pd.read_csv(\"buddha1.csv\").dropna(axis=0, subset=['translation-en-sujato']).reset_index()\n",
    "mormon = pd.read_csv(\"mormon1.csv\")\n",
    "quran = pd.read_csv(\"quran.csv\")"
   ]
  },
  {
   "cell_type": "code",
   "execution_count": 11,
   "metadata": {},
   "outputs": [
    {
     "data": {
      "text/html": [
       "<div>\n",
       "<style scoped>\n",
       "    .dataframe tbody tr th:only-of-type {\n",
       "        vertical-align: middle;\n",
       "    }\n",
       "\n",
       "    .dataframe tbody tr th {\n",
       "        vertical-align: top;\n",
       "    }\n",
       "\n",
       "    .dataframe thead th {\n",
       "        text-align: right;\n",
       "    }\n",
       "</style>\n",
       "<table border=\"1\" class=\"dataframe\">\n",
       "  <thead>\n",
       "    <tr style=\"text-align: right;\">\n",
       "      <th></th>\n",
       "      <th>JuzNo</th>\n",
       "      <th>SurahNo</th>\n",
       "      <th>EnglishTranslation</th>\n",
       "    </tr>\n",
       "  </thead>\n",
       "  <tbody>\n",
       "    <tr>\n",
       "      <th>0</th>\n",
       "      <td>1</td>\n",
       "      <td>1</td>\n",
       "      <td>In the name of Allah, Most Gracious, Most Merc...</td>\n",
       "    </tr>\n",
       "    <tr>\n",
       "      <th>1</th>\n",
       "      <td>1</td>\n",
       "      <td>2</td>\n",
       "      <td>A. L. M. This is the Book; in it is guidance s...</td>\n",
       "    </tr>\n",
       "    <tr>\n",
       "      <th>2</th>\n",
       "      <td>2</td>\n",
       "      <td>2</td>\n",
       "      <td>The fools among the people will say: \"What hat...</td>\n",
       "    </tr>\n",
       "    <tr>\n",
       "      <th>3</th>\n",
       "      <td>3</td>\n",
       "      <td>2</td>\n",
       "      <td>Those messengers We endowed with gifts, some a...</td>\n",
       "    </tr>\n",
       "    <tr>\n",
       "      <th>4</th>\n",
       "      <td>3</td>\n",
       "      <td>3</td>\n",
       "      <td>A. L. M. Allah! There is no god but He,-the Li...</td>\n",
       "    </tr>\n",
       "    <tr>\n",
       "      <th>...</th>\n",
       "      <td>...</td>\n",
       "      <td>...</td>\n",
       "      <td>...</td>\n",
       "    </tr>\n",
       "    <tr>\n",
       "      <th>130</th>\n",
       "      <td>30</td>\n",
       "      <td>110</td>\n",
       "      <td>When comes the Help of Allah, and Victory, And...</td>\n",
       "    </tr>\n",
       "    <tr>\n",
       "      <th>131</th>\n",
       "      <td>30</td>\n",
       "      <td>111</td>\n",
       "      <td>Perish the hands of the Father of Flame! Peris...</td>\n",
       "    </tr>\n",
       "    <tr>\n",
       "      <th>132</th>\n",
       "      <td>30</td>\n",
       "      <td>112</td>\n",
       "      <td>Say: He is Allah, the One and Only; Allah, the...</td>\n",
       "    </tr>\n",
       "    <tr>\n",
       "      <th>133</th>\n",
       "      <td>30</td>\n",
       "      <td>113</td>\n",
       "      <td>Say: I seek refuge with the Lord of the Dawn F...</td>\n",
       "    </tr>\n",
       "    <tr>\n",
       "      <th>134</th>\n",
       "      <td>30</td>\n",
       "      <td>114</td>\n",
       "      <td>Say: I seek refuge with the Lord and Cherisher...</td>\n",
       "    </tr>\n",
       "  </tbody>\n",
       "</table>\n",
       "<p>135 rows × 3 columns</p>\n",
       "</div>"
      ],
      "text/plain": [
       "     JuzNo  SurahNo                                 EnglishTranslation\n",
       "0        1        1  In the name of Allah, Most Gracious, Most Merc...\n",
       "1        1        2  A. L. M. This is the Book; in it is guidance s...\n",
       "2        2        2  The fools among the people will say: \"What hat...\n",
       "3        3        2  Those messengers We endowed with gifts, some a...\n",
       "4        3        3  A. L. M. Allah! There is no god but He,-the Li...\n",
       "..     ...      ...                                                ...\n",
       "130     30      110  When comes the Help of Allah, and Victory, And...\n",
       "131     30      111  Perish the hands of the Father of Flame! Peris...\n",
       "132     30      112  Say: He is Allah, the One and Only; Allah, the...\n",
       "133     30      113  Say: I seek refuge with the Lord of the Dawn F...\n",
       "134     30      114  Say: I seek refuge with the Lord and Cherisher...\n",
       "\n",
       "[135 rows x 3 columns]"
      ]
     },
     "execution_count": 11,
     "metadata": {},
     "output_type": "execute_result"
    }
   ],
   "source": [
    "quran_grouped"
   ]
  },
  {
   "cell_type": "markdown",
   "metadata": {},
   "source": [
    "## Semantic Search"
   ]
  },
  {
   "cell_type": "markdown",
   "metadata": {},
   "source": [
    "### Set-up"
   ]
  },
  {
   "cell_type": "code",
   "execution_count": 3,
   "metadata": {},
   "outputs": [],
   "source": [
    "bible_text = bible['Text']\n",
    "buddha_text = buddha['translation-en-sujato']\n",
    "mormon_text = mormon['scripture_text']\n",
    "quran_text = quran['EnglishTranslation']"
   ]
  },
  {
   "cell_type": "code",
   "execution_count": 4,
   "metadata": {},
   "outputs": [],
   "source": [
    "# Use a bi-directional autoencoder to create the corpus embeddings\n",
    "model = SentenceTransformer('multi-qa-MiniLM-L6-cos-v1')"
   ]
  },
  {
   "cell_type": "code",
   "execution_count": 5,
   "metadata": {},
   "outputs": [],
   "source": [
    "# # Create Bible embeddings and save them locally\n",
    "# bible_embeddings = model.encode(bible_text, convert_to_tensor=True, show_progress_bar=True, normalize_embeddings=True)\n",
    "# torch.save(bible_embeddings, \"bible.pt\")\n",
    "\n",
    "# # Same for buddha\n",
    "# buddha_embeddings = model.encode(buddha_text, convert_to_tensor=True, show_progress_bar=True, normalize_embeddings=True)\n",
    "# torch.save(buddha_embeddings, \"buddha.pt\")\n",
    "\n",
    "# # Same for mormon\n",
    "# mormon_embeddings = model.encode(mormon_text, convert_to_tensor=True, show_progress_bar=True, normalize_embeddings=True)\n",
    "# torch.save(mormon_embeddings, \"mormon.pt\")\n",
    "\n",
    "# # Same for quran\n",
    "# quran_embeddings = model.encode(quran_text, convert_to_tensor=True, show_progress_bar=True, normalize_embeddings=True)\n",
    "# torch.save(quran_embeddings, \"quran.pt\")"
   ]
  },
  {
   "cell_type": "code",
   "execution_count": 7,
   "metadata": {},
   "outputs": [],
   "source": [
    "# Load embeddings\n",
    "bible_embeddings = torch.load(\"bible.pt\", map_location=torch.device('cpu'))\n",
    "buddha_embeddings = torch.load(\"buddha.pt\", map_location=torch.device('cpu'))\n",
    "mormon_embeddings = torch.load(\"mormon.pt\", map_location=torch.device('cpu'))\n",
    "quran_embeddings = torch.load(\"quran.pt\", map_location=torch.device('cpu'))"
   ]
  },
  {
   "cell_type": "markdown",
   "metadata": {},
   "source": [
    "### Search Implementation"
   ]
  },
  {
   "cell_type": "code",
   "execution_count": 9,
   "metadata": {},
   "outputs": [],
   "source": [
    "def search_papers(concept, top_k):\n",
    "    # Embed the query\n",
    "    query_embedding = model.encode(concept, convert_to_tensor=True)\n",
    "    \n",
    "    # Get the search hits\n",
    "    bible_search_hits = util.semantic_search(query_embedding, bible_embeddings, top_k=top_k)[0]\n",
    "    buddha_search_hits = util.semantic_search(query_embedding, buddha_embeddings, top_k=top_k)[0]\n",
    "    mormon_search_hits = util.semantic_search(query_embedding, mormon_embeddings, top_k=top_k)[0]\n",
    "    quran_search_hits = util.semantic_search(query_embedding, quran_embeddings, top_k=top_k)[0]\n",
    "    \n",
    "    # Get the row indexes of the top k hits (in case we want to use these later)\n",
    "    bible_hit_indexes = [x['corpus_id'] for x in bible_search_hits]\n",
    "    buddha_hit_indexes = [x['corpus_id'] for x in buddha_search_hits]\n",
    "    mormon_hit_indexes = [x['corpus_id'] for x in mormon_search_hits]\n",
    "    quran_hit_indexes = [x['corpus_id'] for x in quran_search_hits]\n",
    "    \n",
    "    #Bible search results\n",
    "    print(\"Search:\", concept)\n",
    "    print(\"Most similar verses in the Bible: \")\n",
    "    pprint.pprint([{bible.iloc[x][\"Book Name\"] + \n",
    "             \" \" + \n",
    "             str(bible.iloc[x][\"Chapter\"]) + \n",
    "             \":\" +\n",
    "             str(bible.iloc[x][\"Verse\"]) :bible.iloc[x][\"Text\"]} for x in bible_hit_indexes])\n",
    "      \n",
    "    #Buddha search results\n",
    "    print(\"\\n\\n Most similar verses in Buddha\")\n",
    "    pprint.pprint([{buddha.iloc[x]['segment_id']: buddha.iloc[x]['translation-en-sujato']} for x in buddha_hit_indexes])\n",
    "    \n",
    "    # Mormon search results\n",
    "    print(\"\\n\\n Most similar verses in Mormon\")\n",
    "    pprint.pprint([{mormon.iloc[x][\"volume_title\"] + \"- \"+\n",
    "                mormon.iloc[x][\"book_title\"] + \n",
    "             \" \" + \n",
    "             str(mormon.iloc[x][\"chapter_number\"]) + \n",
    "             \":\" +\n",
    "             str(mormon.iloc[x][\"verse_number\"]) : mormon.iloc[x]['scripture_text']} for x in mormon_hit_indexes])\n",
    "    \n",
    "    #Quran search results\n",
    "    print(\"\\n\\n Most similar verses in Quran\")\n",
    "    pprint.pprint([{str(quran.iloc[x]['SurahNo']) + \n",
    "             \":\" +\n",
    "             str(quran.iloc[x]['AyahNo']) + \" Quran\" : quran.iloc[x]['EnglishTranslation']} for x in quran_hit_indexes])\n",
    "    \n",
    "    return None"
   ]
  },
  {
   "cell_type": "code",
   "execution_count": 10,
   "metadata": {},
   "outputs": [
    {
     "name": "stdout",
     "output_type": "stream",
     "text": [
      "Search: Love and peace in the world\n",
      "Most similar verses in the Bible: \n",
      "[{'Psalms 85:10': 'Mercy and truth are met together; righteousness and peace '\n",
      "                  'have kissed [each other].'},\n",
      " {'Ephesians 6:23': 'Peace [be] to the brethren, and love with faith, from God '\n",
      "                    'the Father and the Lord Jesus Christ.'},\n",
      " {'Romans 14:19': 'Let us therefore follow after the things which make for '\n",
      "                  'peace, and things wherewith one may edify another.'},\n",
      " {'Luke 2:14': 'Glory to God in the highest, and on earth peace, good will '\n",
      "               'toward men.'},\n",
      " {'2 Thessalonians 3:16': ' Now the Lord of peace himself give you peace '\n",
      "                          'always by all means. The Lord [be] with you all.'}]\n",
      "\n",
      "\n",
      " Most similar verses in Buddha\n",
      "[{'dn19:44.21': 'or happiness in lives to come.” '},\n",
      " {'dn19:14.9': 'With clear and peaceful minds, '},\n",
      " {'dn18:14.5': 'With clear and peaceful minds, '},\n",
      " {'dn19:59.1': 'And the Great Steward meditated spreading a heart full of love '\n",
      "               'to one direction, and to the second, and to the third, and to '\n",
      "               'the fourth. In the same way above, below, across, everywhere, '\n",
      "               'all around, he spread a heart full of love to the whole '\n",
      "               'world—abundant, expansive, limitless, free of enmity and ill '\n",
      "               'will. '},\n",
      " {'dn21:2.8.2': '“I see six reasons to speak of such joy and happiness, sir. '}]\n",
      "\n",
      "\n",
      " Most similar verses in Mormon\n",
      "[{'Book of Mormon- Helaman 5:47': 'Peace, peace be unto you, because of your '\n",
      "                                  'faith in my Well Beloved, who was from the '\n",
      "                                  'foundation of the world.'},\n",
      " {'Old Testament- Psalms 85:10': 'Mercy and truth are met together; '\n",
      "                                 'righteousness and peace have kissed each '\n",
      "                                 'other.'},\n",
      " {'New Testament- Ephesians 6:23': 'Peace be to the brethren, and love with '\n",
      "                                   'faith, from God the Father and the Lord '\n",
      "                                   'Jesus Christ.'},\n",
      " {'New Testament- Romans 14:19': 'Let us therefore follow after the things '\n",
      "                                 'which make for peace, and things wherewith '\n",
      "                                 'one may edify another.'},\n",
      " {'New Testament- 2 Thessalonians 3:16': 'Now the Lord of peace himself give '\n",
      "                                         'you peace always by all means. The '\n",
      "                                         'Lord be with you all.'}]\n",
      "\n",
      "\n",
      " Most similar verses in Quran\n",
      "[{'19:33 Quran': '\"So peace is on me the day I was born, the day that I die, '\n",
      "                 'and the day that I shall be raised up to life (again)\"!'},\n",
      " {'56:26 Quran': 'Only the saying, \"Peace! Peace\".'},\n",
      " {'10:10 Quran': '(This will be) their cry therein: \"Glory to Thee, O Allah!\" '\n",
      "                 'And \"Peace\" will be their greeting therein! and the close of '\n",
      "                 'their cry will be: \"Praise be to Allah, the Cherisher and '\n",
      "                 'Sustainer of the worlds!\"'},\n",
      " {'37:181 Quran': 'And Peace on the messengers!'},\n",
      " {'37:120 Quran': '\"Peace and salutation to Moses and Aaron!\"'}]\n"
     ]
    }
   ],
   "source": [
    "search_papers('Love and peace in the world', 5) # search for a concept"
   ]
  },
  {
   "cell_type": "markdown",
   "metadata": {},
   "source": [
    "!!! Need a better output format"
   ]
  },
  {
   "cell_type": "markdown",
   "metadata": {},
   "source": [
    "## Extractive Summarization\n",
    "\n",
    "Methods and brief descriptions are derived from: https://machinelearninggeek.com/text-summarization-using-python/"
   ]
  },
  {
   "cell_type": "code",
   "execution_count": 5,
   "metadata": {},
   "outputs": [],
   "source": [
    "bible_grouped = bible.groupby(['Book Name', 'Chapter'])['Text'].apply(' '.join).reset_index()\n",
    "mormon_grouped = mormon.groupby(['volume_title', 'book_title', 'chapter_number'])['scripture_text'].apply(' '.join).reset_index()\n",
    "quran_grouped = quran.groupby(['JuzNo', 'SurahNo'])['EnglishTranslation'].apply(' '.join).reset_index()\n",
    "buddha_grouped = buddha.groupby(['level_1', 'level_2'])['translation-en-sujato'].apply(' '.join).reset_index()"
   ]
  },
  {
   "cell_type": "code",
   "execution_count": 12,
   "metadata": {},
   "outputs": [
    {
     "data": {
      "text/plain": [
       "'And when they came nigh to Jerusalem, unto Bethphage and Bethany, at the mount of Olives, he sendeth forth two of his disciples, And saith unto them, Go your way into the village over against you: and as soon as ye be entered into it, ye shall find a colt tied, whereon never man sat; loose him, and bring him. And if any man say unto you, Why do ye this? say ye that the Lord hath need of him; and straightway he will send him hither. And they went their way, and found the colt tied by the door without in a place where two ways met; and they loose him. And certain of them that stood there said unto them, What do ye, loosing the colt? And they said unto them even as Jesus had commanded: and they let them go. And they brought the colt to Jesus, and cast their garments on him; and he sat upon him. And many spread their garments in the way: and others cut down branches off the trees, and strawed them in the way. And they that went before, and they that followed, cried, saying, Hosanna; Blessed is he that cometh in the name of the Lord: Blessed be the kingdom of our father David, that cometh in the name of the Lord: Hosanna in the highest. And Jesus entered into Jerusalem, and into the temple: and when he had looked round about upon all things, and now the eventide was come, he went out unto Bethany with the twelve. And on the morrow, when they were come from Bethany, he was hungry: And seeing a fig tree afar off having leaves, he came, if haply he might find any thing thereon: and when he came to it, he found nothing but leaves; for the time of figs was not yet. And Jesus answered and said unto it, No man eat fruit of thee hereafter for ever. And his disciples heard it. And they come to Jerusalem: and Jesus went into the temple, and began to cast out them that sold and bought in the temple, and overthrew the tables of the moneychangers, and the seats of them that sold doves; And would not suffer that any man should carry any vessel through the temple. And he taught, saying unto them, Is it not written, My house shall be called of all nations the house of prayer? but ye have made it a den of thieves. And the scribes and chief priests heard it, and sought how they might destroy him: for they feared him, because all the people was astonished at his doctrine. And when even was come, he went out of the city. And in the morning, as they passed by, they saw the fig tree dried up from the roots. And Peter calling to remembrance saith unto him, Master, behold, the fig tree which thou cursedst is withered away. And Jesus answering saith unto them, Have faith in God. For verily I say unto you, That whosoever shall say unto this mountain, Be thou removed, and be thou cast into the sea; and shall not doubt in his heart, but shall believe that those things which he saith shall come to pass; he shall have whatsoever he saith. Therefore I say unto you, What things soever ye desire, when ye pray, believe that ye receive them, and ye shall have them. And when ye stand praying, forgive, if ye have ought against any: that your Father also which is in heaven may forgive you your trespasses. But if ye do not forgive, neither will your Father which is in heaven forgive your trespasses. And they come again to Jerusalem: and as he was walking in the temple, there come to him the chief priests, and the scribes, and the elders, And say unto him, By what authority doest thou these things? and who gave thee this authority to do these things? And Jesus answered and said unto them, I will also ask of you one question, and answer me, and I will tell you by what authority I do these things. The baptism of John, was it from heaven, or of men? answer me. And they reasoned with themselves, saying, If we shall say, From heaven; he will say, Why then did ye not believe him? But if we shall say, Of men; they feared the people: for all men counted John, that he was a prophet indeed. And they answered and said unto Jesus, We cannot tell. And Jesus answering saith unto them, Neither do I tell you by what authority I do these things.'"
      ]
     },
     "execution_count": 12,
     "metadata": {},
     "output_type": "execute_result"
    }
   ],
   "source": [
    "test = mormon_grouped[mormon_grouped['book_title'] == 'Mark']\n",
    "text = test.iloc[10]['scripture_text']\n",
    "\n",
    "text # display text paragraph that summarization works on"
   ]
  },
  {
   "cell_type": "markdown",
   "metadata": {},
   "source": [
    "### Summarization using `sumy`"
   ]
  },
  {
   "cell_type": "code",
   "execution_count": 13,
   "metadata": {},
   "outputs": [],
   "source": [
    "from sumy.parsers.plaintext import PlaintextParser\n",
    "from sumy.nlp.tokenizers import Tokenizer"
   ]
  },
  {
   "cell_type": "markdown",
   "metadata": {},
   "source": [
    "#### `LexRank`\n",
    "\n",
    "A graph-based method of summarization, `LexRank` is a unsupervised and extractive summarization technique that relies on cosine similarity between sentences. Similarity scores are used to generate a weighted graph of sentences, and the sentences that are perceived as being most similar/important are returned in the form of a summary."
   ]
  },
  {
   "cell_type": "code",
   "execution_count": 14,
   "metadata": {},
   "outputs": [],
   "source": [
    "def lex_summary(text):\n",
    "    '''\n",
    "    INPUTS\n",
    "        text (str) - the text on which summarization will be performed\n",
    "    OUTPUT\n",
    "        lex_sum (str) - the LexRank summarized version of the inputted text\n",
    "    '''\n",
    "    from sumy.summarizers.lex_rank import LexRankSummarizer\n",
    "    parser = PlaintextParser.from_string(text,Tokenizer(\"english\"))\n",
    "    \n",
    "    summarizer_lex = LexRankSummarizer()\n",
    "    # Summarize using sumy LexRank\n",
    "    summary= summarizer_lex(parser.document, 2)\n",
    "    lex_sum=\"\"\n",
    "    for sentence in summary:\n",
    "        lex_sum+=str(sentence)  \n",
    "    return lex_sum"
   ]
  },
  {
   "cell_type": "code",
   "execution_count": 15,
   "metadata": {},
   "outputs": [],
   "source": [
    "# bible\n",
    "book_list = []\n",
    "chap_list = []\n",
    "summary = []\n",
    "\n",
    "for i in range(len(bible_grouped)):\n",
    "    book_list.append(bible_grouped.iloc[i]['Book Name'])\n",
    "    chap_list.append(bible_grouped.iloc[i]['Chapter'])\n",
    "    \n",
    "    summary.append(lex_summary(bible_grouped.iloc[i]['Text']))\n",
    "    \n",
    "lex_summarized_bible = pd.DataFrame({'book': book_list, 'chap': chap_list, 'lex summary': summary})"
   ]
  },
  {
   "cell_type": "code",
   "execution_count": 16,
   "metadata": {},
   "outputs": [],
   "source": [
    "# mormon\n",
    "vol_list = []\n",
    "book_list = []\n",
    "chap_list = []\n",
    "summary = []\n",
    "\n",
    "for i in range(len(mormon_grouped)):\n",
    "    vol_list.append(mormon_grouped.iloc[i]['volume_title'])\n",
    "    book_list.append(mormon_grouped.iloc[i]['book_title'])\n",
    "    chap_list.append(mormon_grouped.iloc[i]['chapter_number'])\n",
    "    \n",
    "    summary.append(lex_summary(mormon_grouped.iloc[i]['scripture_text']))\n",
    "    \n",
    "lex_summarized_mormon = pd.DataFrame({'volume': vol_list, 'book': book_list, 'chap': chap_list, 'lex summary': summary})"
   ]
  },
  {
   "cell_type": "code",
   "execution_count": 17,
   "metadata": {},
   "outputs": [],
   "source": [
    "# quran\n",
    "juz_list = []\n",
    "surah_list = []\n",
    "summary = []\n",
    "\n",
    "for i in range(len(quran_grouped)):\n",
    "    juz_list.append(quran_grouped.iloc[i]['JuzNo'])\n",
    "    surah_list.append(quran_grouped.iloc[i]['SurahNo'])\n",
    "    \n",
    "    summary.append(lex_summary(quran_grouped.iloc[i]['EnglishTranslation']))\n",
    "    \n",
    "lex_summarized_quran = pd.DataFrame({'juz': juz_list, 'surah': surah_list, 'lex summary': summary})"
   ]
  },
  {
   "cell_type": "code",
   "execution_count": 18,
   "metadata": {},
   "outputs": [],
   "source": [
    "# buddha\n",
    "level1_list = []\n",
    "level2_list = []\n",
    "summary = []\n",
    "\n",
    "for i in range(len(buddha_grouped)):\n",
    "    level1_list.append(buddha_grouped.iloc[i]['level_1'])\n",
    "    level2_list.append(buddha_grouped.iloc[i]['level_2'])\n",
    "    \n",
    "    summary.append(lex_summary(buddha_grouped.iloc[i]['translation-en-sujato']))\n",
    "    \n",
    "lex_summarized_buddha = pd.DataFrame({'level_1': level1_list, 'level_2': level2_list, 'lex summary': summary})"
   ]
  },
  {
   "cell_type": "markdown",
   "metadata": {},
   "source": [
    "#### `LSA`\n",
    "\n",
    "Latent Semantic Analysis, `LSA`, makes use of Singular Value Decompisition (SVD) and serves as a semantic, unsupervised approach to extractive text summarization. It captures importance by reducing the input data to a lower dimension and subsequently performing spatial decomposition. `LSA` summarizations will be more focused on topics and/or the latent features of the document.\n",
    "\n",
    "One drawback of `LSA` in text summarization is its reliance on SVD, which is computationally complex and breaks down with larger and inhomogeneous datasets."
   ]
  },
  {
   "cell_type": "code",
   "execution_count": 19,
   "metadata": {},
   "outputs": [],
   "source": [
    "def lsa_summary(text):\n",
    "    '''\n",
    "    INPUTS\n",
    "        text (str) - the text on which summarization will be performed\n",
    "    OUTPUT\n",
    "        lsa_sum (str) - the LSA summarized version of the inputted text\n",
    "    '''\n",
    "    from sumy.summarizers.lsa import LsaSummarizer\n",
    "    parser = PlaintextParser.from_string(text,Tokenizer(\"english\"))\n",
    "    \n",
    "    summarizer_lsa = LsaSummarizer()\n",
    "    # Summarize using sumy LSA\n",
    "    summary =summarizer_lsa(parser.document,2)\n",
    "    lsa_sum=\"\"\n",
    "    for sentence in summary:\n",
    "        lsa_sum+=str(sentence)  \n",
    "    return lsa_sum"
   ]
  },
  {
   "cell_type": "code",
   "execution_count": 20,
   "metadata": {},
   "outputs": [],
   "source": [
    "# bible\n",
    "book_list = []\n",
    "chap_list = []\n",
    "summary = []\n",
    "\n",
    "for i in range(len(bible_grouped)):\n",
    "    book_list.append(bible_grouped.iloc[i]['Book Name'])\n",
    "    chap_list.append(bible_grouped.iloc[i]['Chapter'])\n",
    "    \n",
    "    summary.append(lsa_summary(bible_grouped.iloc[i]['Text']))\n",
    "    \n",
    "lsa_summarized_bible = pd.DataFrame({'book': book_list, 'chap': chap_list, 'lsa summary': summary})"
   ]
  },
  {
   "cell_type": "code",
   "execution_count": 21,
   "metadata": {},
   "outputs": [],
   "source": [
    "# mormon\n",
    "vol_list = []\n",
    "book_list = []\n",
    "chap_list = []\n",
    "summary = []\n",
    "\n",
    "for i in range(len(mormon_grouped)):\n",
    "    vol_list.append(mormon_grouped.iloc[i]['volume_title'])\n",
    "    book_list.append(mormon_grouped.iloc[i]['book_title'])\n",
    "    chap_list.append(mormon_grouped.iloc[i]['chapter_number'])\n",
    "    \n",
    "    summary.append(lsa_summary(mormon_grouped.iloc[i]['scripture_text']))\n",
    "    \n",
    "lsa_summarized_mormon = pd.DataFrame({'volume': vol_list, 'book': book_list, 'chap': chap_list, 'lsa summary': summary})"
   ]
  },
  {
   "cell_type": "code",
   "execution_count": 22,
   "metadata": {},
   "outputs": [],
   "source": [
    "# quran\n",
    "juz_list = []\n",
    "surah_list = []\n",
    "summary = []\n",
    "\n",
    "for i in range(len(quran_grouped)):\n",
    "    juz_list.append(quran_grouped.iloc[i]['JuzNo'])\n",
    "    surah_list.append(quran_grouped.iloc[i]['SurahNo'])\n",
    "    \n",
    "    summary.append(lsa_summary(quran_grouped.iloc[i]['EnglishTranslation']))\n",
    "    \n",
    "lsa_summarized_quran = pd.DataFrame({'juz': juz_list, 'surah': surah_list, 'lsa summary': summary})"
   ]
  },
  {
   "cell_type": "code",
   "execution_count": 23,
   "metadata": {},
   "outputs": [],
   "source": [
    "# buddha\n",
    "level1_list = []\n",
    "level2_list = []\n",
    "summary = []\n",
    "\n",
    "for i in range(len(buddha_grouped)):\n",
    "    level1_list.append(buddha_grouped.iloc[i]['level_1'])\n",
    "    level2_list.append(buddha_grouped.iloc[i]['level_2'])\n",
    "    \n",
    "    summary.append(lsa_summary(buddha_grouped.iloc[i]['translation-en-sujato']))\n",
    "    \n",
    "lsa_summarized_buddha = pd.DataFrame({'level_1': level1_list, 'level_2': level2_list, 'lsa summary': summary})"
   ]
  },
  {
   "cell_type": "markdown",
   "metadata": {},
   "source": [
    "#### KL Divergence\n",
    "\n",
    "KL-Divergence measures the difference between probability distributions. In terms of text summarization, it measures unigram probability distributions between the given document and the generated document. KL-Divergence text summarization methods select sentences with lower KL-Divergence to generate summaries, which often provides an encompassing and relevant summarization of the original document."
   ]
  },
  {
   "cell_type": "code",
   "execution_count": 24,
   "metadata": {},
   "outputs": [],
   "source": [
    "def kl_summary(text):\n",
    "    '''\n",
    "    INPUTS\n",
    "        text (str) - the text on which summarization will be performed\n",
    "    OUTPUT\n",
    "        kl_sum (str) - the KL-Divergence summarized version of the inputted text\n",
    "    '''\n",
    "    from sumy.summarizers.kl import KLSummarizer\n",
    "    parser = PlaintextParser.from_string(text,Tokenizer(\"english\"))\n",
    "    \n",
    "    summarizer_kl = KLSummarizer()\n",
    "    # Summarize using sumy KL Divergence\n",
    "    summary =summarizer_kl(parser.document,2)\n",
    "    kl_sum=\"\"\n",
    "    for sentence in summary:\n",
    "        kl_sum+=str(sentence)  \n",
    "    return kl_sum"
   ]
  },
  {
   "cell_type": "code",
   "execution_count": 25,
   "metadata": {},
   "outputs": [],
   "source": [
    "# bible\n",
    "book_list = []\n",
    "chap_list = []\n",
    "summary = []\n",
    "\n",
    "for i in range(len(bible_grouped)):\n",
    "    book_list.append(bible_grouped.iloc[i]['Book Name'])\n",
    "    chap_list.append(bible_grouped.iloc[i]['Chapter'])\n",
    "    \n",
    "    #text = bible_grouped.iloc[i]['Text']\n",
    "    \n",
    "    summary.append(kl_summary(bible_grouped.iloc[i]['Text']))\n",
    "    \n",
    "kl_summarized_bible = pd.DataFrame({'book': book_list, 'chap': chap_list, 'kl summary': summary})"
   ]
  },
  {
   "cell_type": "code",
   "execution_count": 26,
   "metadata": {},
   "outputs": [],
   "source": [
    "# mormon\n",
    "vol_list = []\n",
    "book_list = []\n",
    "chap_list = []\n",
    "summary = []\n",
    "\n",
    "for i in range(len(mormon_grouped)):\n",
    "    vol_list.append(mormon_grouped.iloc[i]['volume_title'])\n",
    "    book_list.append(mormon_grouped.iloc[i]['book_title'])\n",
    "    chap_list.append(mormon_grouped.iloc[i]['chapter_number'])\n",
    "    \n",
    "    summary.append(kl_summary(mormon_grouped.iloc[i]['scripture_text']))\n",
    "    \n",
    "kl_summarized_mormon = pd.DataFrame({'volume': vol_list, 'book': book_list, 'chap': chap_list, 'kl summary': summary})"
   ]
  },
  {
   "cell_type": "code",
   "execution_count": 27,
   "metadata": {},
   "outputs": [],
   "source": [
    "# quran\n",
    "juz_list = []\n",
    "surah_list = []\n",
    "summary = []\n",
    "\n",
    "for i in range(len(quran_grouped)):\n",
    "    juz_list.append(quran_grouped.iloc[i]['JuzNo'])\n",
    "    surah_list.append(quran_grouped.iloc[i]['SurahNo'])\n",
    "    \n",
    "    summary.append(kl_summary(quran_grouped.iloc[i]['EnglishTranslation']))\n",
    "    \n",
    "kl_summarized_quran = pd.DataFrame({'juz': juz_list, 'surah': surah_list, 'kl summary': summary})"
   ]
  },
  {
   "cell_type": "code",
   "execution_count": 28,
   "metadata": {},
   "outputs": [],
   "source": [
    "# buddha\n",
    "level1_list = []\n",
    "level2_list = []\n",
    "summary = []\n",
    "\n",
    "for i in range(len(buddha_grouped)):\n",
    "    level1_list.append(buddha_grouped.iloc[i]['level_1'])\n",
    "    level2_list.append(buddha_grouped.iloc[i]['level_2'])\n",
    "    \n",
    "    summary.append(kl_summary(buddha_grouped.iloc[i]['translation-en-sujato']))\n",
    "    \n",
    "kl_summarized_buddha = pd.DataFrame({'level_1': level1_list, 'level_2': level2_list, 'kl summary': summary})"
   ]
  },
  {
   "cell_type": "markdown",
   "metadata": {},
   "source": [
    "### Compare Summaries"
   ]
  },
  {
   "cell_type": "code",
   "execution_count": 29,
   "metadata": {},
   "outputs": [],
   "source": [
    "# merge dataframes\n",
    "new_bible = pd.merge(bible_grouped, lex_summarized_bible,  how='left', left_on=['Book Name','Chapter'], right_on = ['book','chap'])\n",
    "new_bible = pd.merge(new_bible, lsa_summarized_bible,  how='left', left_on=['Book Name','Chapter'], right_on = ['book','chap'])\n",
    "new_bible = pd.merge(new_bible, kl_summarized_bible,  how='left', left_on=['Book Name','Chapter'], right_on = ['book','chap'])\n",
    "\n",
    "new_mormon = pd.merge(mormon_grouped, lex_summarized_mormon,  how='left', left_on=['volume_title','book_title', 'chapter_number'], right_on = ['volume', 'book','chap'])\n",
    "new_mormon = pd.merge(new_mormon, lsa_summarized_mormon,  how='left', left_on=['volume_title','book_title', 'chapter_number'], right_on = ['volume', 'book','chap'])\n",
    "new_mormon = pd.merge(new_mormon, kl_summarized_mormon,  how='left', left_on=['volume_title','book_title', 'chapter_number'], right_on = ['volume', 'book','chap'])\n",
    "\n",
    "new_quran = pd.merge(quran_grouped, lex_summarized_quran,  how='left', left_on=['JuzNo', 'SurahNo'], right_on = ['juz', 'surah'])\n",
    "new_quran = pd.merge(new_quran, lsa_summarized_quran,  how='left', left_on=['JuzNo', 'SurahNo'], right_on = ['juz', 'surah'])\n",
    "new_quran = pd.merge(new_quran, kl_summarized_quran,  how='left', left_on=['JuzNo', 'SurahNo'], right_on = ['juz', 'surah'])\n",
    "\n",
    "new_buddha = pd.merge(buddha_grouped, lex_summarized_buddha,  how='left', left_on=['level_1', 'level_2'], right_on = ['level_1', 'level_2'])\n",
    "new_buddha = pd.merge(new_buddha, lsa_summarized_buddha,  how='left', left_on=['level_1', 'level_2'], right_on = ['level_1', 'level_2'])\n",
    "sum_buddha = pd.merge(new_buddha, kl_summarized_buddha,  how='left', left_on=['level_1', 'level_2'], right_on = ['level_1', 'level_2'])"
   ]
  },
  {
   "cell_type": "code",
   "execution_count": 30,
   "metadata": {},
   "outputs": [],
   "source": [
    "sum_bible = new_bible.drop(['book', 'book_x', 'book_y', 'chap', 'chap_x', 'chap_y'], axis=1)\n",
    "sum_mormon = new_mormon.drop(['volume', 'volume_x', 'volume_y', 'book', 'book_x', 'book_y', 'chap', 'chap_x', 'chap_y'], axis=1)\n",
    "sum_quran = new_quran.drop(['juz', 'juz_x', 'juz_y', 'surah', 'surah_x', 'surah_y'], axis=1)"
   ]
  },
  {
   "cell_type": "markdown",
   "metadata": {},
   "source": [
    "#### Summarization Evaluation using Recall Oriented Understudy for Gisting Evaluation, *ROUGE*\n",
    "\n",
    "Cite: https://aclanthology.org/W04-1013.pdf, https://www.freecodecamp.org/news/what-is-rouge-and-how-it-works-for-evaluation-of-summaries-e059fb8ac840/#:~:text=ROUGE%20stands%20for%20Recall%2DOriented,(typically%20human%2Dproduced)\n",
    "\n",
    "- *ROUGE1*: Measures the unigram overlap between the original document and the summarization.\n",
    "- *ROUGE2*: Measures the bigram overlap between the original document and the summarization.\n",
    "- *ROUGEL*: Measures longest matching sequence of words using LCS. Note that an advantage of using LCS is that it does not require consecutive matches but in-sequence matches that reflect sentence level word order.\n",
    "- *ROUGELSUM*: Tracks pairs of words in a sentence in order, allowing for arbitrary gaps. This can also be called *skip-gram* concurrence. For example, skip-bigram measures the overlap of word pairs that can have a maximum of two gaps in between words.\n",
    "\n",
    "Note that the original document for *ROUGE* methods is intended to be an ideal summary created by humans. However, given the size of our dataset, generating ideal summaries for the Bible, Book of Mormon, Qur'an, and the Gospel of Buddha is not feasible. Additionally, we question the judgement of an \"ideal human summary.\" For this reason, we use *ROUGE* metrics in comparison to the true documents themselves, which results in worse *ROUGE* scores, but serves as a more objective implementation of the evaluation."
   ]
  },
  {
   "cell_type": "code",
   "execution_count": 31,
   "metadata": {},
   "outputs": [],
   "source": [
    "import evaluate"
   ]
  },
  {
   "cell_type": "code",
   "execution_count": 32,
   "metadata": {},
   "outputs": [],
   "source": [
    "def rouge_eval(summary_type, sum_df, column='Text'):\n",
    "    '''\n",
    "    INPUT\n",
    "        summary_type (str) - column of sum_df that identifies summarization technique used\n",
    "    OUTPUT\n",
    "        results (dict) - dictionary of rouge type results\n",
    "    '''\n",
    "    rouge = evaluate.load('rouge')\n",
    "    predictions = [sum_df.iloc[i][summary_type] for i in range(len(sum_df))]\n",
    "    references = [[sum_df.iloc[i][column]] for i in range(len(sum_df))]\n",
    "    results = rouge.compute(predictions=predictions,\n",
    "                            references=references,\n",
    "                            use_aggregator=False)\n",
    "    \n",
    "    return results"
   ]
  },
  {
   "cell_type": "code",
   "execution_count": 33,
   "metadata": {},
   "outputs": [
    {
     "name": "stdout",
     "output_type": "stream",
     "text": [
      "CPU times: user 1min 58s, sys: 196 ms, total: 1min 58s\n",
      "Wall time: 1min 59s\n"
     ]
    }
   ],
   "source": [
    "%%time\n",
    "# eval bible rouge per summarization type\n",
    "lex_rouge_bible = rouge_eval('lex summary', sum_bible, column='Text') # LexSummarizer\n",
    "lsa_rouge_bible = rouge_eval('lsa summary', sum_bible, column='Text') # LSASummarizer\n",
    "kl_rouge_bible = rouge_eval('kl summary', sum_bible, column='Text') # KLSummarizer"
   ]
  },
  {
   "cell_type": "code",
   "execution_count": 34,
   "metadata": {},
   "outputs": [
    {
     "name": "stdout",
     "output_type": "stream",
     "text": [
      "CPU times: user 2min 50s, sys: 267 ms, total: 2min 50s\n",
      "Wall time: 2min 51s\n"
     ]
    }
   ],
   "source": [
    "%%time\n",
    "# eval mormon rouge per summarization type\n",
    "lex_rouge_mormon = rouge_eval('lex summary', sum_mormon, column='scripture_text') # LexSummarizer\n",
    "lsa_rouge_mormon = rouge_eval('lsa summary', sum_mormon, column='scripture_text') # LSASummarizer\n",
    "kl_rouge_mormon = rouge_eval('kl summary', sum_mormon, column='scripture_text') # KLSummarizer"
   ]
  },
  {
   "cell_type": "code",
   "execution_count": 35,
   "metadata": {},
   "outputs": [
    {
     "name": "stdout",
     "output_type": "stream",
     "text": [
      "CPU times: user 23.9 s, sys: 39.8 ms, total: 24 s\n",
      "Wall time: 24.4 s\n"
     ]
    }
   ],
   "source": [
    "%%time\n",
    "# eval quran rouge per summarization type\n",
    "lex_rouge_quran = rouge_eval('lex summary', sum_quran, column='EnglishTranslation') # LexSummarizer\n",
    "lsa_rouge_quran = rouge_eval('lsa summary', sum_quran, column='EnglishTranslation') # LSASummarizer\n",
    "kl_rouge_quran = rouge_eval('kl summary', sum_quran, column='EnglishTranslation') # KLSummarizer"
   ]
  },
  {
   "cell_type": "code",
   "execution_count": 36,
   "metadata": {},
   "outputs": [
    {
     "name": "stdout",
     "output_type": "stream",
     "text": [
      "CPU times: user 21.1 s, sys: 49.3 ms, total: 21.1 s\n",
      "Wall time: 21.4 s\n"
     ]
    }
   ],
   "source": [
    "%%time\n",
    "# eval buddha rouge per summarization type\n",
    "lex_rouge_buddha = rouge_eval('lex summary', sum_buddha, column='translation-en-sujato') # LexSummarizer\n",
    "lsa_rouge_buddha = rouge_eval('lsa summary', sum_buddha, column='translation-en-sujato') # LSASummarizer\n",
    "kl_rouge_buddha = rouge_eval('kl summary', sum_buddha, column='translation-en-sujato') # KLSummarizer"
   ]
  },
  {
   "cell_type": "code",
   "execution_count": 37,
   "metadata": {},
   "outputs": [],
   "source": [
    "# id rouge types\n",
    "sum_bible['lex rouge1'] = lex_rouge_bible['rouge1']\n",
    "sum_bible['lex rouge2'] = lex_rouge_bible['rouge2']\n",
    "sum_bible['lex rougeL'] = lex_rouge_bible['rougeL']\n",
    "sum_bible['lex rougeLsum'] = lex_rouge_bible['rougeLsum']\n",
    "\n",
    "sum_bible['lsa rouge1'] = lsa_rouge_bible['rouge1']\n",
    "sum_bible['lsa rouge2'] = lsa_rouge_bible['rouge2']\n",
    "sum_bible['lsa rougeL'] = lsa_rouge_bible['rougeL']\n",
    "sum_bible['lsa rougeLsum'] = lsa_rouge_bible['rougeLsum']\n",
    "\n",
    "sum_bible['kl rouge1'] = kl_rouge_bible['rouge1']\n",
    "sum_bible['kl rouge2'] = kl_rouge_bible['rouge2']\n",
    "sum_bible['kl rougeL'] = kl_rouge_bible['rougeL']\n",
    "sum_bible['kl rougeLsum'] = kl_rouge_bible['rougeLsum']\n",
    "\n",
    "sum_mormon['lex rouge1'] = lex_rouge_mormon['rouge1']\n",
    "sum_mormon['lex rouge2'] = lex_rouge_mormon['rouge2']\n",
    "sum_mormon['lex rougeL'] = lex_rouge_mormon['rougeL']\n",
    "sum_mormon['lex rougeLsum'] = lex_rouge_mormon['rougeLsum']\n",
    "\n",
    "sum_mormon['lsa rouge1'] = lsa_rouge_mormon['rouge1']\n",
    "sum_mormon['lsa rouge2'] = lsa_rouge_mormon['rouge2']\n",
    "sum_mormon['lsa rougeL'] = lsa_rouge_mormon['rougeL']\n",
    "sum_mormon['lsa rougeLsum'] = lsa_rouge_mormon['rougeLsum']\n",
    "\n",
    "sum_mormon['kl rouge1'] = kl_rouge_mormon['rouge1']\n",
    "sum_mormon['kl rouge2'] = kl_rouge_mormon['rouge2']\n",
    "sum_mormon['kl rougeL'] = kl_rouge_mormon['rougeL']\n",
    "sum_mormon['kl rougeLsum'] = kl_rouge_mormon['rougeLsum']\n",
    "\n",
    "sum_quran['lex rouge1'] = lex_rouge_quran['rouge1']\n",
    "sum_quran['lex rouge2'] = lex_rouge_quran['rouge2']\n",
    "sum_quran['lex rougeL'] = lex_rouge_quran['rougeL']\n",
    "sum_quran['lex rougeLsum'] = lex_rouge_quran['rougeLsum']\n",
    "\n",
    "sum_quran['lsa rouge1'] = lsa_rouge_quran['rouge1']\n",
    "sum_quran['lsa rouge2'] = lsa_rouge_quran['rouge2']\n",
    "sum_quran['lsa rougeL'] = lsa_rouge_quran['rougeL']\n",
    "sum_quran['lsa rougeLsum'] = lsa_rouge_quran['rougeLsum']\n",
    "\n",
    "sum_quran['kl rouge1'] = kl_rouge_quran['rouge1']\n",
    "sum_quran['kl rouge2'] = kl_rouge_quran['rouge2']\n",
    "sum_quran['kl rougeL'] = kl_rouge_quran['rougeL']\n",
    "sum_quran['kl rougeLsum'] = kl_rouge_quran['rougeLsum']\n",
    "\n",
    "sum_buddha['lex rouge1'] = lex_rouge_buddha['rouge1']\n",
    "sum_buddha['lex rouge2'] = lex_rouge_buddha['rouge2']\n",
    "sum_buddha['lex rougeL'] = lex_rouge_buddha['rougeL']\n",
    "sum_buddha['lex rougeLsum'] = lex_rouge_buddha['rougeLsum']\n",
    "\n",
    "sum_buddha['lsa rouge1'] = lsa_rouge_buddha['rouge1']\n",
    "sum_buddha['lsa rouge2'] = lsa_rouge_buddha['rouge2']\n",
    "sum_buddha['lsa rougeL'] = lsa_rouge_buddha['rougeL']\n",
    "sum_buddha['lsa rougeLsum'] = lsa_rouge_buddha['rougeLsum']\n",
    "\n",
    "sum_buddha['kl rouge1'] = kl_rouge_buddha['rouge1']\n",
    "sum_buddha['kl rouge2'] = kl_rouge_buddha['rouge2']\n",
    "sum_buddha['kl rougeL'] = kl_rouge_buddha['rougeL']\n",
    "sum_buddha['kl rougeLsum'] = kl_rouge_buddha['rougeLsum']"
   ]
  },
  {
   "cell_type": "code",
   "execution_count": 38,
   "metadata": {},
   "outputs": [],
   "source": [
    "# create mean rouge scores for easier comparison\n",
    "sum_bible['lex mean_rouge'] = sum_bible[['lex rouge1', 'lex rouge2', 'lex rougeL', 'lex rougeLsum']].mean(axis=1)\n",
    "sum_bible['lsa mean_rouge'] = sum_bible[['lsa rouge1', 'lsa rouge2', 'lsa rougeL', 'lsa rougeLsum']].mean(axis=1)\n",
    "sum_bible['kl mean_rouge'] = sum_bible[['kl rouge1', 'kl rouge2', 'kl rougeL', 'kl rougeLsum']].mean(axis=1)\n",
    "\n",
    "sum_mormon['lex mean_rouge'] = sum_mormon[['lex rouge1', 'lex rouge2', 'lex rougeL', 'lex rougeLsum']].mean(axis=1)\n",
    "sum_mormon['lsa mean_rouge'] = sum_mormon[['lsa rouge1', 'lsa rouge2', 'lsa rougeL', 'lsa rougeLsum']].mean(axis=1)\n",
    "sum_mormon['kl mean_rouge'] = sum_mormon[['kl rouge1', 'kl rouge2', 'kl rougeL', 'kl rougeLsum']].mean(axis=1)\n",
    "\n",
    "sum_quran['lex mean_rouge'] = sum_quran[['lex rouge1', 'lex rouge2', 'lex rougeL', 'lex rougeLsum']].mean(axis=1)\n",
    "sum_quran['lsa mean_rouge'] = sum_quran[['lsa rouge1', 'lsa rouge2', 'lsa rougeL', 'lsa rougeLsum']].mean(axis=1)\n",
    "sum_quran['kl mean_rouge'] = sum_quran[['kl rouge1', 'kl rouge2', 'kl rougeL', 'kl rougeLsum']].mean(axis=1)\n",
    "\n",
    "sum_buddha['lex mean_rouge'] = sum_buddha[['lex rouge1', 'lex rouge2', 'lex rougeL', 'lex rougeLsum']].mean(axis=1)\n",
    "sum_buddha['lsa mean_rouge'] = sum_buddha[['lsa rouge1', 'lsa rouge2', 'lsa rougeL', 'lsa rougeLsum']].mean(axis=1)\n",
    "sum_buddha['kl mean_rouge'] = sum_buddha[['kl rouge1', 'kl rouge2', 'kl rougeL', 'kl rougeLsum']].mean(axis=1)"
   ]
  },
  {
   "cell_type": "code",
   "execution_count": 39,
   "metadata": {},
   "outputs": [],
   "source": [
    "# optional: drop other rouge scores\n",
    "sum_bible = sum_bible.drop(['lex rouge1', 'lex rouge2', 'lex rougeL', 'lex rougeLsum', 'lsa rouge1',\n",
    "                            'lsa rouge2', 'lsa rougeL', 'lsa rougeLsum',\n",
    "                            'kl rouge1', 'kl rouge2', 'kl rougeL', 'kl rougeLsum'], axis=1)\n",
    "sum_mormon = sum_mormon.drop(['lex rouge1', 'lex rouge2', 'lex rougeL', 'lex rougeLsum', 'lsa rouge1',\n",
    "                            'lsa rouge2', 'lsa rougeL', 'lsa rougeLsum',\n",
    "                            'kl rouge1', 'kl rouge2', 'kl rougeL', 'kl rougeLsum'], axis=1)\n",
    "sum_quran = sum_quran.drop(['lex rouge1', 'lex rouge2', 'lex rougeL', 'lex rougeLsum', 'lsa rouge1',\n",
    "                            'lsa rouge2', 'lsa rougeL', 'lsa rougeLsum',\n",
    "                            'kl rouge1', 'kl rouge2', 'kl rougeL', 'kl rougeLsum'], axis=1)\n",
    "sum_buddha = sum_buddha.drop(['lex rouge1', 'lex rouge2', 'lex rougeL', 'lex rougeLsum', 'lsa rouge1',\n",
    "                            'lsa rouge2', 'lsa rougeL', 'lsa rougeLsum',\n",
    "                            'kl rouge1', 'kl rouge2', 'kl rougeL', 'kl rougeLsum'], axis=1)"
   ]
  },
  {
   "cell_type": "markdown",
   "metadata": {},
   "source": [
    "#### Inspect Summarization Performance"
   ]
  },
  {
   "cell_type": "code",
   "execution_count": 68,
   "metadata": {},
   "outputs": [
    {
     "data": {
      "text/plain": [
       "Book Name                                                   Matthew\n",
       "Chapter                                                           2\n",
       "Text               Now when Jesus was born in Bethlehem of Judae...\n",
       "lex summary       Now when Jesus was born in Bethlehem of Judaea...\n",
       "lsa summary       for we have seen his star in the east, and are...\n",
       "kl summary        And when he had gathered all the chief priests...\n",
       "lex mean_rouge                                             0.219667\n",
       "lsa mean_rouge                                            0.0945411\n",
       "kl mean_rouge                                              0.126227\n",
       "Name: 846, dtype: object"
      ]
     },
     "execution_count": 68,
     "metadata": {},
     "output_type": "execute_result"
    }
   ],
   "source": [
    "sum_bible.loc[846]"
   ]
  },
  {
   "cell_type": "code",
   "execution_count": null,
   "metadata": {},
   "outputs": [],
   "source": []
  },
  {
   "cell_type": "code",
   "execution_count": 44,
   "metadata": {},
   "outputs": [],
   "source": [
    "print(f\"\"\"\n",
    "LexRank Performance: {sum_bible['lex mean_rouge'].mean()}\\n\n",
    "LSA Performance: {sum_bible['lsa mean_rouge'].mean()}\\n\n",
    "KL-Divergence Performance: {sum_bible['kl mean_rouge'].mean()}\n",
    "\"\"\")   \n",
    "\n",
    "sum_mormon.tail()"
   ]
  },
  {
   "cell_type": "code",
   "execution_count": 46,
   "metadata": {},
   "outputs": [
    {
     "data": {
      "text/html": [
       "<div>\n",
       "<style scoped>\n",
       "    .dataframe tbody tr th:only-of-type {\n",
       "        vertical-align: middle;\n",
       "    }\n",
       "\n",
       "    .dataframe tbody tr th {\n",
       "        vertical-align: top;\n",
       "    }\n",
       "\n",
       "    .dataframe thead th {\n",
       "        text-align: right;\n",
       "    }\n",
       "</style>\n",
       "<table border=\"1\" class=\"dataframe\">\n",
       "  <thead>\n",
       "    <tr style=\"text-align: right;\">\n",
       "      <th></th>\n",
       "      <th>JuzNo</th>\n",
       "      <th>SurahNo</th>\n",
       "      <th>EnglishTranslation</th>\n",
       "      <th>lex summary</th>\n",
       "      <th>lsa summary</th>\n",
       "      <th>kl summary</th>\n",
       "      <th>lex mean_rouge</th>\n",
       "      <th>lsa mean_rouge</th>\n",
       "      <th>kl mean_rouge</th>\n",
       "    </tr>\n",
       "  </thead>\n",
       "  <tbody>\n",
       "    <tr>\n",
       "      <th>130</th>\n",
       "      <td>30</td>\n",
       "      <td>110</td>\n",
       "      <td>When comes the Help of Allah, and Victory, And...</td>\n",
       "      <td>When comes the Help of Allah, and Victory, And...</td>\n",
       "      <td>When comes the Help of Allah, and Victory, And...</td>\n",
       "      <td>When comes the Help of Allah, and Victory, And...</td>\n",
       "      <td>1.000000</td>\n",
       "      <td>1.000000</td>\n",
       "      <td>1.000000</td>\n",
       "    </tr>\n",
       "    <tr>\n",
       "      <th>131</th>\n",
       "      <td>30</td>\n",
       "      <td>111</td>\n",
       "      <td>Perish the hands of the Father of Flame! Peris...</td>\n",
       "      <td>Perish he!No profit to him from all his wealth...</td>\n",
       "      <td>Burnt soon will he be in a Fire of Blazing Fla...</td>\n",
       "      <td>Perish he!No profit to him from all his wealth...</td>\n",
       "      <td>0.413433</td>\n",
       "      <td>0.736498</td>\n",
       "      <td>0.413433</td>\n",
       "    </tr>\n",
       "    <tr>\n",
       "      <th>132</th>\n",
       "      <td>30</td>\n",
       "      <td>112</td>\n",
       "      <td>Say: He is Allah, the One and Only; Allah, the...</td>\n",
       "      <td>Say: He is Allah, the One and Only; Allah, the...</td>\n",
       "      <td>Say: He is Allah, the One and Only; Allah, the...</td>\n",
       "      <td>Say: He is Allah, the One and Only; Allah, the...</td>\n",
       "      <td>1.000000</td>\n",
       "      <td>1.000000</td>\n",
       "      <td>1.000000</td>\n",
       "    </tr>\n",
       "    <tr>\n",
       "      <th>133</th>\n",
       "      <td>30</td>\n",
       "      <td>113</td>\n",
       "      <td>Say: I seek refuge with the Lord of the Dawn F...</td>\n",
       "      <td>Say: I seek refuge with the Lord of the Dawn F...</td>\n",
       "      <td>Say: I seek refuge with the Lord of the Dawn F...</td>\n",
       "      <td>Say: I seek refuge with the Lord of the Dawn F...</td>\n",
       "      <td>1.000000</td>\n",
       "      <td>1.000000</td>\n",
       "      <td>1.000000</td>\n",
       "    </tr>\n",
       "    <tr>\n",
       "      <th>134</th>\n",
       "      <td>30</td>\n",
       "      <td>114</td>\n",
       "      <td>Say: I seek refuge with the Lord and Cherisher...</td>\n",
       "      <td>Say: I seek refuge with the Lord and Cherisher...</td>\n",
       "      <td>Say: I seek refuge with the Lord and Cherisher...</td>\n",
       "      <td>Say: I seek refuge with the Lord and Cherisher...</td>\n",
       "      <td>1.000000</td>\n",
       "      <td>1.000000</td>\n",
       "      <td>1.000000</td>\n",
       "    </tr>\n",
       "  </tbody>\n",
       "</table>\n",
       "</div>"
      ],
      "text/plain": [
       "     JuzNo  SurahNo                                 EnglishTranslation  \\\n",
       "130     30      110  When comes the Help of Allah, and Victory, And...   \n",
       "131     30      111  Perish the hands of the Father of Flame! Peris...   \n",
       "132     30      112  Say: He is Allah, the One and Only; Allah, the...   \n",
       "133     30      113  Say: I seek refuge with the Lord of the Dawn F...   \n",
       "134     30      114  Say: I seek refuge with the Lord and Cherisher...   \n",
       "\n",
       "                                           lex summary  \\\n",
       "130  When comes the Help of Allah, and Victory, And...   \n",
       "131  Perish he!No profit to him from all his wealth...   \n",
       "132  Say: He is Allah, the One and Only; Allah, the...   \n",
       "133  Say: I seek refuge with the Lord of the Dawn F...   \n",
       "134  Say: I seek refuge with the Lord and Cherisher...   \n",
       "\n",
       "                                           lsa summary  \\\n",
       "130  When comes the Help of Allah, and Victory, And...   \n",
       "131  Burnt soon will he be in a Fire of Blazing Fla...   \n",
       "132  Say: He is Allah, the One and Only; Allah, the...   \n",
       "133  Say: I seek refuge with the Lord of the Dawn F...   \n",
       "134  Say: I seek refuge with the Lord and Cherisher...   \n",
       "\n",
       "                                            kl summary  lex mean_rouge  \\\n",
       "130  When comes the Help of Allah, and Victory, And...        1.000000   \n",
       "131  Perish he!No profit to him from all his wealth...        0.413433   \n",
       "132  Say: He is Allah, the One and Only; Allah, the...        1.000000   \n",
       "133  Say: I seek refuge with the Lord of the Dawn F...        1.000000   \n",
       "134  Say: I seek refuge with the Lord and Cherisher...        1.000000   \n",
       "\n",
       "     lsa mean_rouge  kl mean_rouge  \n",
       "130        1.000000       1.000000  \n",
       "131        0.736498       0.413433  \n",
       "132        1.000000       1.000000  \n",
       "133        1.000000       1.000000  \n",
       "134        1.000000       1.000000  "
      ]
     },
     "execution_count": 46,
     "metadata": {},
     "output_type": "execute_result"
    }
   ],
   "source": [
    "sum_quran.tail()"
   ]
  },
  {
   "cell_type": "code",
   "execution_count": 47,
   "metadata": {},
   "outputs": [
    {
     "data": {
      "text/html": [
       "<div>\n",
       "<style scoped>\n",
       "    .dataframe tbody tr th:only-of-type {\n",
       "        vertical-align: middle;\n",
       "    }\n",
       "\n",
       "    .dataframe tbody tr th {\n",
       "        vertical-align: top;\n",
       "    }\n",
       "\n",
       "    .dataframe thead th {\n",
       "        text-align: right;\n",
       "    }\n",
       "</style>\n",
       "<table border=\"1\" class=\"dataframe\">\n",
       "  <thead>\n",
       "    <tr style=\"text-align: right;\">\n",
       "      <th></th>\n",
       "      <th>level_1</th>\n",
       "      <th>level_2</th>\n",
       "      <th>translation-en-sujato</th>\n",
       "      <th>lex summary</th>\n",
       "      <th>lsa summary</th>\n",
       "      <th>kl summary</th>\n",
       "      <th>lex mean_rouge</th>\n",
       "      <th>lsa mean_rouge</th>\n",
       "      <th>kl mean_rouge</th>\n",
       "    </tr>\n",
       "  </thead>\n",
       "  <tbody>\n",
       "    <tr>\n",
       "      <th>819</th>\n",
       "      <td>33</td>\n",
       "      <td>2</td>\n",
       "      <td>5. Fives There are teachings grouped by five t...</td>\n",
       "      <td>Furthermore, a mendicant isn’t free of greed f...</td>\n",
       "      <td>Five precepts:  refraining from killing living...</td>\n",
       "      <td>…  Knowing a thought with the mind, one is pre...</td>\n",
       "      <td>0.048436</td>\n",
       "      <td>0.034334</td>\n",
       "      <td>0.023103</td>\n",
       "    </tr>\n",
       "    <tr>\n",
       "      <th>820</th>\n",
       "      <td>33</td>\n",
       "      <td>3</td>\n",
       "      <td>8. Eights There are teachings grouped by eight...</td>\n",
       "      <td>They think:  ‘I’ve wandered for alms, but I di...</td>\n",
       "      <td>But a person has been reborn in the borderland...</td>\n",
       "      <td>There are sentient beings that have gone total...</td>\n",
       "      <td>0.020176</td>\n",
       "      <td>0.016455</td>\n",
       "      <td>0.013226</td>\n",
       "    </tr>\n",
       "    <tr>\n",
       "      <th>821</th>\n",
       "      <td>34</td>\n",
       "      <td>0</td>\n",
       "      <td>Long Discourses 34 Up to Ten</td>\n",
       "      <td>Long Discourses 34 Up to Ten</td>\n",
       "      <td>Long Discourses 34 Up to Ten</td>\n",
       "      <td>Long Discourses 34 Up to Ten</td>\n",
       "      <td>1.000000</td>\n",
       "      <td>1.000000</td>\n",
       "      <td>1.000000</td>\n",
       "    </tr>\n",
       "    <tr>\n",
       "      <th>822</th>\n",
       "      <td>34</td>\n",
       "      <td>1</td>\n",
       "      <td>So I have heard.  At one time the Buddha was s...</td>\n",
       "      <td>Take another case where a mendicant focuses on...</td>\n",
       "      <td>A mendicant has faith in the Realized One’s aw...</td>\n",
       "      <td>That mendicant feels inspired by the meaning a...</td>\n",
       "      <td>0.030755</td>\n",
       "      <td>0.032141</td>\n",
       "      <td>0.025191</td>\n",
       "    </tr>\n",
       "    <tr>\n",
       "      <th>823</th>\n",
       "      <td>34</td>\n",
       "      <td>2</td>\n",
       "      <td>8. Groups of Eight Eight things are helpful, e...</td>\n",
       "      <td>They think:  ‘I’ve wandered for alms, but I di...</td>\n",
       "      <td>But a person has been reborn in the borderland...</td>\n",
       "      <td>Such is consciousness, such is the origin of c...</td>\n",
       "      <td>0.019643</td>\n",
       "      <td>0.014841</td>\n",
       "      <td>0.015333</td>\n",
       "    </tr>\n",
       "  </tbody>\n",
       "</table>\n",
       "</div>"
      ],
      "text/plain": [
       "     level_1 level_2                              translation-en-sujato  \\\n",
       "819       33       2  5. Fives There are teachings grouped by five t...   \n",
       "820       33       3  8. Eights There are teachings grouped by eight...   \n",
       "821       34       0                      Long Discourses 34 Up to Ten    \n",
       "822       34       1  So I have heard.  At one time the Buddha was s...   \n",
       "823       34       2  8. Groups of Eight Eight things are helpful, e...   \n",
       "\n",
       "                                           lex summary  \\\n",
       "819  Furthermore, a mendicant isn’t free of greed f...   \n",
       "820  They think:  ‘I’ve wandered for alms, but I di...   \n",
       "821                       Long Discourses 34 Up to Ten   \n",
       "822  Take another case where a mendicant focuses on...   \n",
       "823  They think:  ‘I’ve wandered for alms, but I di...   \n",
       "\n",
       "                                           lsa summary  \\\n",
       "819  Five precepts:  refraining from killing living...   \n",
       "820  But a person has been reborn in the borderland...   \n",
       "821                       Long Discourses 34 Up to Ten   \n",
       "822  A mendicant has faith in the Realized One’s aw...   \n",
       "823  But a person has been reborn in the borderland...   \n",
       "\n",
       "                                            kl summary  lex mean_rouge  \\\n",
       "819  …  Knowing a thought with the mind, one is pre...        0.048436   \n",
       "820  There are sentient beings that have gone total...        0.020176   \n",
       "821                       Long Discourses 34 Up to Ten        1.000000   \n",
       "822  That mendicant feels inspired by the meaning a...        0.030755   \n",
       "823  Such is consciousness, such is the origin of c...        0.019643   \n",
       "\n",
       "     lsa mean_rouge  kl mean_rouge  \n",
       "819        0.034334       0.023103  \n",
       "820        0.016455       0.013226  \n",
       "821        1.000000       1.000000  \n",
       "822        0.032141       0.025191  \n",
       "823        0.014841       0.015333  "
      ]
     },
     "execution_count": 47,
     "metadata": {},
     "output_type": "execute_result"
    }
   ],
   "source": [
    "sum_buddha.tail()"
   ]
  },
  {
   "cell_type": "markdown",
   "metadata": {},
   "source": [
    "### Plot `ROUGE` Statistics"
   ]
  },
  {
   "cell_type": "code",
   "execution_count": 97,
   "metadata": {},
   "outputs": [
    {
     "data": {
      "image/png": "[encoded data removed]",
      "text/plain": [
       "<Figure size 432x288 with 1 Axes>"
      ]
     },
     "metadata": {
      "needs_background": "light"
     },
     "output_type": "display_data"
    }
   ],
   "source": [
    "bible100 = sum_bible.loc[0:100].plot(y=['lex mean_rouge', 'lsa mean_rouge', 'kl mean_rouge'], use_index=True)\n",
    "bible100.set(xlabel='Index', ylabel='Rouge Score')\n",
    "bible100 = bible100.get_figure()"
   ]
  },
  {
   "cell_type": "code",
   "execution_count": 98,
   "metadata": {},
   "outputs": [],
   "source": [
    "bible100.savefig('bible_100.pdf')"
   ]
  },
  {
   "cell_type": "code",
   "execution_count": 93,
   "metadata": {},
   "outputs": [
    {
     "data": {
      "image/png": "[encoded data removed]",
      "text/plain": [
       "<Figure size 432x288 with 1 Axes>"
      ]
     },
     "metadata": {
      "needs_background": "light"
     },
     "output_type": "display_data"
    }
   ],
   "source": [
    "mormon100 = sum_mormon.iloc[-100:].plot(y=['lex mean_rouge', 'lsa mean_rouge', 'kl mean_rouge'], use_index=True) # last 100\n",
    "mormon100.set(xlabel='Index', ylabel='Rouge Score')\n",
    "mormon100 = mormon100.get_figure()"
   ]
  },
  {
   "cell_type": "code",
   "execution_count": 94,
   "metadata": {},
   "outputs": [],
   "source": [
    "mormon100.savefig('mormon_last_100.pdf')"
   ]
  },
  {
   "cell_type": "code",
   "execution_count": 99,
   "metadata": {},
   "outputs": [
    {
     "data": {
      "image/png": "[encoded data removed]",
      "text/plain": [
       "<Figure size 432x288 with 1 Axes>"
      ]
     },
     "metadata": {
      "needs_background": "light"
     },
     "output_type": "display_data"
    }
   ],
   "source": [
    "quran100 = sum_quran.loc[0:100].plot(y=['lex mean_rouge', 'lsa mean_rouge', 'kl mean_rouge'], use_index=True)\n",
    "quran100.set(xlabel='Index', ylabel='Rouge Score')\n",
    "quran100 = quran100.get_figure()"
   ]
  },
  {
   "cell_type": "code",
   "execution_count": 100,
   "metadata": {},
   "outputs": [],
   "source": [
    "quran100.savefig('quran_100.pdf')"
   ]
  },
  {
   "cell_type": "code",
   "execution_count": null,
   "metadata": {},
   "outputs": [],
   "source": []
  }
 ],
 "metadata": {
  "kernelspec": {
   "display_name": "Python 3",
   "language": "python",
   "name": "python3"
  },
  "language_info": {
   "codemirror_mode": {
    "name": "ipython",
    "version": 3
   },
   "file_extension": ".py",
   "mimetype": "text/x-python",
   "name": "python",
   "nbconvert_exporter": "python",
   "pygments_lexer": "ipython3",
   "version": "3.8.8"
  }
 },
 "nbformat": 4,
 "nbformat_minor": 4
}
